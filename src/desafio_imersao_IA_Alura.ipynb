{
  "nbformat": 4,
  "nbformat_minor": 0,
  "metadata": {
    "colab": {
      "provenance": [],
      "authorship_tag": "ABX9TyNIUAODCeL3dvK4hwZ/fC67",
      "include_colab_link": true
    },
    "kernelspec": {
      "name": "python3",
      "display_name": "Python 3"
    },
    "language_info": {
      "name": "python"
    }
  },
  "cells": [
    {
      "cell_type": "markdown",
      "metadata": {
        "id": "view-in-github",
        "colab_type": "text"
      },
      "source": [
        "<a href=\"https://colab.research.google.com/github/estevamdf2/imersaoIA_Cade_o_chamado/blob/main/desafio_imersao_IA_Alura.ipynb\" target=\"_parent\"><img src=\"https://colab.research.google.com/assets/colab-badge.svg\" alt=\"Open In Colab\"/></a>"
      ]
    },
    {
      "cell_type": "code",
      "execution_count": 1,
      "metadata": {
        "colab": {
          "base_uri": "https://localhost:8080/",
          "height": 1000
        },
        "id": "bAVgi5YlMF1B",
        "outputId": "67b48595-8f49-4c48-8791-ba1b2ab5629e"
      },
      "outputs": [
        {
          "output_type": "stream",
          "name": "stdout",
          "text": [
            "Descreva para mim o problema a ser resolvido \n",
            ": ## Dados para treinamento  problema: Gostaria de solicitar, por favor, a inclusão no sistema gestor core do acesso à função GESTOR MIDIA. O pedido é feito para criação e entrega dos programas do As aventuras de Mano Brown, o qual faço parte da equipe de produção, em TO. Obrigado! area: desenvolvimento de sistemas  ---  problema: Solicitamos reparo no sistema viaja mais, pois o mesmo não esta permitindo salvar as alterações nas avs no qual quando solicitamos salvar aparece o erro em anexo. Diante disso solicitamos o reparo. area: desenvolvimento de sistemas   ---  problema: Não consigo acessar o computador para trabalhar, tento fazer login mas o windows não loga. area: suporte tecnico  ---  problema: Solicito a criação de usuário de rede para novo colaborador. area: infraestrutura  ---  problema: Na sala de reunião o projetor não está funcionando. O computador está ligado, mas não aparece nada no telão. area: suporte tecnico  ---  problema: Preciso trabalhar com o PowerBI para criar um relatório, mas o computador pedi uma senha de administrador. Estou com urgência para entregar a demanda. area: suporte tecnico  ---  problema: Solicito tirar as minhas férias em julho.   area: gestao de pessoas  ---  problema: O colaborador está sendo desligado da empresa. Necessário desativar o login e email. area: infraestrutura  ---  problema: Preciso trocar a conta para receber o salário. E precisa ser nesse mês ainda, porque o banco que eu tinha conta não existe mais. area: gestao de pessoas  ---  problema: Todos os computadores da área não estão acessando a internet. Isso impossibilita que o trabalho seja realizado. area: infraestrutura  ---  problema : Não fica disponível a opção da prestação de contas a impressão do relatório area: desenvolvimento de sistemas  ---  problema: Solicito acesso ao sistema gestor core para o jovem aprendiz Cleobaldo Rodrigues Cunha Pinto.  Desde já agradeço. Daniela Mercury area: Desenvolvimento de sistemas  ---  problema: Solicito excluir o usuário : manu.batidao@dominio.com Fiz a pesquisa e não localizei onde esse e-mail foi cadastrado. O cliente tem urgência. Segue print. Peço a gentileza de incluir o Coordenador do setor (Contratos) para acompanhamento.: contrato@dominio.com Obrigada, Mari Fernandez. area: desenvolvimento de sistemas  ---  problema: Boa tarde. A equipe de produção está com dificuldades de fazer o upload das artes no Portal. Segue anexo o print do erro. Peço que reiniciem o sistema. Obrigada.  area: desenvolvimento de sistemas  ---  problema: Boa tarde; Ao lançar no sistema de viaja mais para o empregado Charlie Brown, Matrícula 001169, o sistema não conclui a inclusão da viagem e apresenta o seguinte erro:  Desculpe, um erro aconteceu na tentativa de solicitar a viagem. A operação falhou  Ao entrar em contato com a área de viagem, recebemos o seguinte retorno e orientação: \"Ele consta como diretoria em branco, talvez seja isso. Favor abrir um chamado para a TI e eles informarão como proceder. No que depender de nós, resolveremos o mais rápido possível. Talvez o problema esteja no cadastro dele pois, pelo que vejo, será sua primeira viagem\"  Pedimos atualizar a lotação e diretoria do empregado no sistema Viaja Mais para que possamos lançar a viagem.  Att  area: desenvolvimento de sistemas  ---  problema: Prezados, O servidor FULANO COSTA, mat. 111, veio para a EMPRESA XPTO para compor força de trabalho, de acordo com a Portaria-Presidente 224 >> LINK DA PORTARIA Na Intranet  o empregado aparece como \"movimentado\" e inativo. Na verdade deve estar ativo. Falei com o Cadastro e indicaram que a TI resolveria a questão. Obrigada. area: desenvolvimento de sistemas  ---  problema: Prezados, bom dia! De ordem, e com a máxima urgência, solicitamos, por favor, a inclusão do empregado Simone Mendes matrícula: 01234, para acesso ao sistema viaga mais, como solicitante e também para autorizar pela PRESI, pois ele é o substituto da Chefe de Gabinete, conforme anexo. Atenciosamente, Cassia Eller  area: Desenvolvimento de sistemas  ---  problema: Aprender metodologia para verificar a seguranças dos sistemas mantidos pela empresa identificando possíveis vulnerabilidades de segurança a fim de mitigar riscos e apontar eventuais falhas encontradas para serem corrigidas pelas áreas responsáveis. Justificativa da escolha do fornecedor:\tA Escola é qualificada como uma Organização Social (OS), a Rede Nacional de Ensino e Pesquisa (RNP) é ligada ao Ministério da Ciência, Tecnologia, Inovação e Comunicações (MCTIC) e mantida por esse em conjunto com os ministérios da Educação (MEC), Cultura (MinC), Saúde (MS) e Defesa (MD), que participam do Programa Interministerial RNP (PI-RNP). Pioneira no acesso à internet no Brasil, a RNP planeja e mantém a rede Ipê ¬- rede óptica nacional acadêmica de alto desempenho. Com Pontos de Presença em 27 unidades da federação, a rede conecta 1.522 campi e unidades nas capitais e no interior. São mais de 4 milhões de usuários, usufruindo de uma infraestrutura de redes avançadas para comunicação, computação e experimentação, que contribui para a integração entre o sistema de Ciência e Tecnologia, Educação Superior, Saúde, Cultura e Defesa. Fiscais da Contratação – Fiscal Titular e Substituto (Nos casos de curso que apresente custo à XCORP):\tFiscal Titular: Caetano Veloso - GELOG - 0109 Fiscal substituto: Alcione - CADLOG - 0108 area: gestao de pessoas  ---  problema: peço a troca da conta bancaria para recebimento de salario. Novos dados para o recebimento Agencia: 0001 conta: 2000-9 Tipo de conta: corrente Banco Itau area: gestao de pessoas  ---  problema: Solicito o reset de minha senha do pupet. Meu usuário e: jonh.lenon, matricula: 10111 area: infraestrutura  ---  problema: Bom dia. Solicito a remarcação de minhas férias relativas ao período aquisitivo de 02/06/2018 a 01/06/2018 marcadas para o dia 11/06/2018 a 20/06/2018 para o novo período 02/10/2018 a 11/10/2018. area: gestao de pessoas  --- problema: Boa tarde. Solicito uma ajuda para configurar a impressora corredor central a esquerda em minha máquina. Sistema operacional Ubuntu 18.04 Achei a impressora na rede e a inclui no meu grupo de impressoras mas envio a impressão e ela fica com o status pausada. area: atendimento  ---  problema: Bom dia. Peço a inclusão do e-mail: renato.russo@dominio.com a lista ti_todos area: Infraestrutura  --- problema: Auxilio Creche para a Criança Cleobalda Lemos nascimento: 10/07/2018  Segue anexo formulário com a solicitacao area: Gestao de pessoas ---\n",
            "De acordo com o informado. O setor que lhe atenderá eh:  ## Dados para treinamento\n",
            "\n",
            "**Problema:** Gostaria de solicitar, por favor, a inclusão no sistema gestor core do acesso à função GESTOR MIDIA. O pedido é feito para criação e entrega dos programas do As aventuras de Mano Brown, o qual faço parte da equipe de produção, em TO. Obrigado!\n",
            "**Área:** Desenvolvimento de sistemas\n",
            "\n",
            "**Problema:** Solicitamos reparo no sistema viaja mais, pois o mesmo não esta permitindo salvar as alterações nas avs no qual quando solicitamos salvar aparece o erro em anexo. Diante disso solicitamos o reparo.\n",
            "**Área:** Desenvolvimento de sistemas\n",
            "\n",
            "**Problema:** Não consigo acessar o computador para trabalhar, tento fazer login mas o windows não loga.\n",
            "**Área:** Suporte técnico\n",
            "\n",
            "**Problema:** Solicito a criação de usuário de rede para novo colaborador.\n",
            "**Área:** Infraestrutura\n",
            "\n",
            "**Problema:** Na sala de reunião o projetor não está funcionando. O computador está ligado, mas não aparece nada no telão.\n",
            "**Área:** Suporte técnico\n",
            "\n",
            "**Problema:** Preciso trabalhar com o PowerBI para criar um relatório, mas o computador pedi uma senha de administrador. Estou com urgência para entregar a demanda.\n",
            "**Área:** Suporte técnico\n",
            "\n",
            "**Problema:** Solicito tirar as minhas férias em julho.\n",
            "**Área:** Gestão de pessoas\n",
            "\n",
            "**Problema:** O colaborador está sendo desligado da empresa. Necessário desativar o login e email.\n",
            "**Área:** Infraestrutura\n",
            "\n",
            "**Problema:** Preciso trocar a conta para receber o salário. E precisa ser nesse mês ainda, porque o banco que eu tinha conta não existe mais.\n",
            "**Área:** Gestão de pessoas\n",
            "\n",
            "**Problema:** Todos os computadores da área não estão acessando a internet. Isso impossibilita que o trabalho seja realizado.\n",
            "**Área:** Infraestrutura\n",
            "\n",
            "**Problema:** Não fica disponível a opção da prestação de contas a impressão do relatório\n",
            "**Área:** Desenvolvimento de sistemas\n",
            "\n",
            "**Problema:** Solicito acesso ao sistema gestor core para o jovem aprendiz Cleobaldo Rodrigues Cunha Pinto. Desde já agradeço. Daniela Mercury\n",
            "**Área:** Desenvolvimento de sistemas\n",
            "\n",
            "**Problema:** Solicito excluir o usuário: manu.batidao@dominio.com Fiz a pesquisa e não localizei onde esse e-mail foi cadastrado. O cliente tem urgência. Segue print. Peço a gentileza de incluir o Coordenador do setor (Contratos) para acompanhamento.: contrato@dominio.com Obrigada, Mari Fernandez.\n",
            "**Área:** Desenvolvimento de sistemas\n",
            "\n",
            "**Problema:** Boa tarde. A equipe de produção está com dificuldades de fazer o upload das artes no Portal. Segue anexo o print do erro. Peço que reiniciem o sistema. Obrigada.\n",
            "**Área:** Desenvolvimento de sistemas\n",
            "\n",
            "**Problema:** Boa tarde; Ao lançar no sistema de viaja mais para o empregado Charlie Brown, Matrícula 001169, o sistema não conclui a inclusão da viagem e apresenta o seguinte erro: Desculpe, um erro aconteceu na tentativa de solicitar a viagem. A operação falhou Ao entrar em contato com a área de viagem, recebemos o seguinte retorno e orientação: \"Ele consta como diretoria em branco, talvez seja isso. Favor abrir um chamado para a TI e eles informarão como proceder. No que depender de nós, resolveremos o mais rápido possível. Talvez o problema esteja no cadastro dele pois, pelo que vejo, será sua primeira viagem\" Pedimos atualizar a lotação e diretoria do empregado no sistema Viaja Mais para que possamos lançar a viagem. Att\n",
            "**Área:** Desenvolvimento de sistemas\n",
            "\n",
            "**Problema:** Prezados, O servidor FULANO COSTA, mat. 111, veio para a EMPRESA XPTO para compor força de trabalho, de acordo com a Portaria-Presidente 224 >> LINK DA PORTARIA Na Intranet o empregado aparece como \"movimentado\" e inativo. Na verdade deve estar ativo. Falei com o Cadastro e indicaram que a TI resolveria a questão. Obrigada.\n",
            "**Área:** Desenvolvimento de sistemas\n",
            "\n",
            "**Problema:** Prezados, bom dia! De ordem, e com a máxima urgência, solicitamos, por favor, a inclusão do empregado Simone Mendes matrícula: 01234, para acesso ao sistema viaga mais, como solicitante e também para autorizar pela PRESI, pois ele é o substituto da Chefe de Gabinete, conforme anexo. Atenciosamente, Cassia Eller\n",
            "**Área:** Desenvolvimento de sistemas\n",
            "\n",
            "**Problema:** Aprender metodologia para verificar a seguranças dos sistemas mantidos pela empresa identificando possíveis vulnerabilidades de segurança a fim de mitigar riscos e apontar eventuais falhas encontradas para serem corrigidas pelas áreas responsáveis. Justificativa da escolha do fornecedor: A Escola é qualificada como uma Organização Social (OS), a Rede Nacional de Ensino e Pesquisa (RNP) é ligada ao Ministério da Ciência, Tecnologia, Inovação e Comunicações (MCTIC) e mantida por esse em conjunto com os ministérios da Educação (MEC), Cultura (MinC), Saúde (MS) e Defesa (MD), que participam do Programa Interministerial RNP (PI-RNP). Pioneira no acesso à internet no Brasil, a RNP planeja e mantém a rede Ipê ¬- rede óptica nacional acadêmica de alto desempenho. Com Pontos de Presença em 27 unidades da federação, a rede conecta 1.522 campi e unidades nas capitais e no interior. São mais de 4 milhões de usuários, usufruindo de uma infraestrutura de redes avançadas para comunicação, computação e experimentação, que contribui para a integração entre o sistema de Ciência e Tecnologia, Educação Superior, Saúde, Cultura e Defesa. Fiscais da Contratação – Fiscal Titular e Substituto (Nos casos de curso que apresente custo à XCORP): Fiscal Titular: Caetano Veloso - GELOG - 0109 Fiscal substituto: Alcione - CADLOG - 0108\n",
            "**Área:** Gestão de pessoas\n",
            "\n",
            "**Problema:** peço a troca da conta bancaria para recebimento de salario. Novos dados para o recebimento Agencia: 0001 conta: 2000-9 Tipo de conta: corrente Banco Itau\n",
            "**Área:** Gestão de pessoas\n",
            "\n",
            "**Problema:** Solicito o reset de minha senha do pupet. Meu usuário e: jonh.lenon, matricula: 10111\n",
            "**Área:** Infraestrutura\n",
            "\n",
            "**Problema:** Bom dia. Solicito a remarcação de minhas férias relativas ao período aquisitivo de 02/06/2018 a 01/06/2018 marcadas para o dia 11/06/2018 a 20/06/2018 para o novo período 02/10/2018 a 11/10/2018.\n",
            "**Área:** Gestão de pessoas\n",
            "\n",
            "**Problema:** Boa tarde. Solicito uma ajuda para configurar a impressora corredor central a esquerda em minha máquina. Sistema operacional Ubuntu 18.04 Achei a impressora na rede e a inclui no meu grupo de impressoras mas envio a impressão e ela fica com o status pausada.\n",
            "**Área:** Atendimento\n",
            "\n",
            "**Problema:** Bom dia. Peço a inclusão do e-mail: renato.russo@dominio.com a lista ti_todos\n",
            "**Área:** Infraestrutura\n",
            "\n",
            "**Problema:** Auxilio Creche para a Criança Cleobalda Lemos nascimento: 10/07/2018 Segue anexo formulário com a solicitacao\n",
            "**Área:** Gestão de pessoas \n",
            "\n",
            "\n"
          ]
        },
        {
          "output_type": "display_data",
          "data": {
            "text/plain": [
              "<IPython.core.display.Markdown object>"
            ],
            "text/markdown": "> **user**: ## Dados para treinamento  problema: Gostaria de solicitar, por favor, a inclusão no sistema gestor core do acesso à função GESTOR MIDIA. O pedido é feito para criação e entrega dos programas do As aventuras de Mano Brown, o qual faço parte da equipe de produção, em TO. Obrigado! area: desenvolvimento de sistemas  ---  problema: Solicitamos reparo no sistema viaja mais, pois o mesmo não esta permitindo salvar as alterações nas avs no qual quando solicitamos salvar aparece o erro em anexo. Diante disso solicitamos o reparo. area: desenvolvimento de sistemas   ---  problema: Não consigo acessar o computador para trabalhar, tento fazer login mas o windows não loga. area: suporte tecnico  ---  problema: Solicito a criação de usuário de rede para novo colaborador. area: infraestrutura  ---  problema: Na sala de reunião o projetor não está funcionando. O computador está ligado, mas não aparece nada no telão. area: suporte tecnico  ---  problema: Preciso trabalhar com o PowerBI para criar um relatório, mas o computador pedi uma senha de administrador. Estou com urgência para entregar a demanda. area: suporte tecnico  ---  problema: Solicito tirar as minhas férias em julho.   area: gestao de pessoas  ---  problema: O colaborador está sendo desligado da empresa. Necessário desativar o login e email. area: infraestrutura  ---  problema: Preciso trocar a conta para receber o salário. E precisa ser nesse mês ainda, porque o banco que eu tinha conta não existe mais. area: gestao de pessoas  ---  problema: Todos os computadores da área não estão acessando a internet. Isso impossibilita que o trabalho seja realizado. area: infraestrutura  ---  problema : Não fica disponível a opção da prestação de contas a impressão do relatório area: desenvolvimento de sistemas  ---  problema: Solicito acesso ao sistema gestor core para o jovem aprendiz Cleobaldo Rodrigues Cunha Pinto.  Desde já agradeço. Daniela Mercury area: Desenvolvimento de sistemas  ---  problema: Solicito excluir o usuário : manu.batidao@dominio.com Fiz a pesquisa e não localizei onde esse e-mail foi cadastrado. O cliente tem urgência. Segue print. Peço a gentileza de incluir o Coordenador do setor (Contratos) para acompanhamento.: contrato@dominio.com Obrigada, Mari Fernandez. area: desenvolvimento de sistemas  ---  problema: Boa tarde. A equipe de produção está com dificuldades de fazer o upload das artes no Portal. Segue anexo o print do erro. Peço que reiniciem o sistema. Obrigada.  area: desenvolvimento de sistemas  ---  problema: Boa tarde; Ao lançar no sistema de viaja mais para o empregado Charlie Brown, Matrícula 001169, o sistema não conclui a inclusão da viagem e apresenta o seguinte erro:  Desculpe, um erro aconteceu na tentativa de solicitar a viagem. A operação falhou  Ao entrar em contato com a área de viagem, recebemos o seguinte retorno e orientação: \"Ele consta como diretoria em branco, talvez seja isso. Favor abrir um chamado para a TI e eles informarão como proceder. No que depender de nós, resolveremos o mais rápido possível. Talvez o problema esteja no cadastro dele pois, pelo que vejo, será sua primeira viagem\"  Pedimos atualizar a lotação e diretoria do empregado no sistema Viaja Mais para que possamos lançar a viagem.  Att  area: desenvolvimento de sistemas  ---  problema: Prezados, O servidor FULANO COSTA, mat. 111, veio para a EMPRESA XPTO para compor força de trabalho, de acordo com a Portaria-Presidente 224 >> LINK DA PORTARIA Na Intranet  o empregado aparece como \"movimentado\" e inativo. Na verdade deve estar ativo. Falei com o Cadastro e indicaram que a TI resolveria a questão. Obrigada. area: desenvolvimento de sistemas  ---  problema: Prezados, bom dia! De ordem, e com a máxima urgência, solicitamos, por favor, a inclusão do empregado Simone Mendes matrícula: 01234, para acesso ao sistema viaga mais, como solicitante e também para autorizar pela PRESI, pois ele é o substituto da Chefe de Gabinete, conforme anexo. Atenciosamente, Cassia Eller  area: Desenvolvimento de sistemas  ---  problema: Aprender metodologia para verificar a seguranças dos sistemas mantidos pela empresa identificando possíveis vulnerabilidades de segurança a fim de mitigar riscos e apontar eventuais falhas encontradas para serem corrigidas pelas áreas responsáveis. Justificativa da escolha do fornecedor:\tA Escola é qualificada como uma Organização Social (OS), a Rede Nacional de Ensino e Pesquisa (RNP) é ligada ao Ministério da Ciência, Tecnologia, Inovação e Comunicações (MCTIC) e mantida por esse em conjunto com os ministérios da Educação (MEC), Cultura (MinC), Saúde (MS) e Defesa (MD), que participam do Programa Interministerial RNP (PI-RNP). Pioneira no acesso à internet no Brasil, a RNP planeja e mantém a rede Ipê ¬- rede óptica nacional acadêmica de alto desempenho. Com Pontos de Presença em 27 unidades da federação, a rede conecta 1.522 campi e unidades nas capitais e no interior. São mais de 4 milhões de usuários, usufruindo de uma infraestrutura de redes avançadas para comunicação, computação e experimentação, que contribui para a integração entre o sistema de Ciência e Tecnologia, Educação Superior, Saúde, Cultura e Defesa. Fiscais da Contratação – Fiscal Titular e Substituto (Nos casos de curso que apresente custo à XCORP):\tFiscal Titular: Caetano Veloso - GELOG - 0109 Fiscal substituto: Alcione - CADLOG - 0108 area: gestao de pessoas  ---  problema: peço a troca da conta bancaria para recebimento de salario. Novos dados para o recebimento Agencia: 0001 conta: 2000-9 Tipo de conta: corrente Banco Itau area: gestao de pessoas  ---  problema: Solicito o reset de minha senha do pupet. Meu usuário e: jonh.lenon, matricula: 10111 area: infraestrutura  ---  problema: Bom dia. Solicito a remarcação de minhas férias relativas ao período aquisitivo de 02/06/2018 a 01/06/2018 marcadas para o dia 11/06/2018 a 20/06/2018 para o novo período 02/10/2018 a 11/10/2018. area: gestao de pessoas  --- problema: Boa tarde. Solicito uma ajuda para configurar a impressora corredor central a esquerda em minha máquina. Sistema operacional Ubuntu 18.04 Achei a impressora na rede e a inclui no meu grupo de impressoras mas envio a impressão e ela fica com o status pausada. area: atendimento  ---  problema: Bom dia. Peço a inclusão do e-mail: renato.russo@dominio.com a lista ti_todos area: Infraestrutura  --- problema: Auxilio Creche para a Criança Cleobalda Lemos nascimento: 10/07/2018  Segue anexo formulário com a solicitacao area: Gestao de pessoas ---"
          },
          "metadata": {}
        },
        {
          "output_type": "display_data",
          "data": {
            "text/plain": [
              "<IPython.core.display.Markdown object>"
            ],
            "text/markdown": "> **model**: ## Dados para treinamento\n> \n> **Problema:** Gostaria de solicitar, por favor, a inclusão no sistema gestor core do acesso à função GESTOR MIDIA. O pedido é feito para criação e entrega dos programas do As aventuras de Mano Brown, o qual faço parte da equipe de produção, em TO. Obrigado!\n> **Área:** Desenvolvimento de sistemas\n> \n> **Problema:** Solicitamos reparo no sistema viaja mais, pois o mesmo não esta permitindo salvar as alterações nas avs no qual quando solicitamos salvar aparece o erro em anexo. Diante disso solicitamos o reparo.\n> **Área:** Desenvolvimento de sistemas\n> \n> **Problema:** Não consigo acessar o computador para trabalhar, tento fazer login mas o windows não loga.\n> **Área:** Suporte técnico\n> \n> **Problema:** Solicito a criação de usuário de rede para novo colaborador.\n> **Área:** Infraestrutura\n> \n> **Problema:** Na sala de reunião o projetor não está funcionando. O computador está ligado, mas não aparece nada no telão.\n> **Área:** Suporte técnico\n> \n> **Problema:** Preciso trabalhar com o PowerBI para criar um relatório, mas o computador pedi uma senha de administrador. Estou com urgência para entregar a demanda.\n> **Área:** Suporte técnico\n> \n> **Problema:** Solicito tirar as minhas férias em julho.\n> **Área:** Gestão de pessoas\n> \n> **Problema:** O colaborador está sendo desligado da empresa. Necessário desativar o login e email.\n> **Área:** Infraestrutura\n> \n> **Problema:** Preciso trocar a conta para receber o salário. E precisa ser nesse mês ainda, porque o banco que eu tinha conta não existe mais.\n> **Área:** Gestão de pessoas\n> \n> **Problema:** Todos os computadores da área não estão acessando a internet. Isso impossibilita que o trabalho seja realizado.\n> **Área:** Infraestrutura\n> \n> **Problema:** Não fica disponível a opção da prestação de contas a impressão do relatório\n> **Área:** Desenvolvimento de sistemas\n> \n> **Problema:** Solicito acesso ao sistema gestor core para o jovem aprendiz Cleobaldo Rodrigues Cunha Pinto. Desde já agradeço. Daniela Mercury\n> **Área:** Desenvolvimento de sistemas\n> \n> **Problema:** Solicito excluir o usuário: manu.batidao@dominio.com Fiz a pesquisa e não localizei onde esse e-mail foi cadastrado. O cliente tem urgência. Segue print. Peço a gentileza de incluir o Coordenador do setor (Contratos) para acompanhamento.: contrato@dominio.com Obrigada, Mari Fernandez.\n> **Área:** Desenvolvimento de sistemas\n> \n> **Problema:** Boa tarde. A equipe de produção está com dificuldades de fazer o upload das artes no Portal. Segue anexo o print do erro. Peço que reiniciem o sistema. Obrigada.\n> **Área:** Desenvolvimento de sistemas\n> \n> **Problema:** Boa tarde; Ao lançar no sistema de viaja mais para o empregado Charlie Brown, Matrícula 001169, o sistema não conclui a inclusão da viagem e apresenta o seguinte erro: Desculpe, um erro aconteceu na tentativa de solicitar a viagem. A operação falhou Ao entrar em contato com a área de viagem, recebemos o seguinte retorno e orientação: \"Ele consta como diretoria em branco, talvez seja isso. Favor abrir um chamado para a TI e eles informarão como proceder. No que depender de nós, resolveremos o mais rápido possível. Talvez o problema esteja no cadastro dele pois, pelo que vejo, será sua primeira viagem\" Pedimos atualizar a lotação e diretoria do empregado no sistema Viaja Mais para que possamos lançar a viagem. Att\n> **Área:** Desenvolvimento de sistemas\n> \n> **Problema:** Prezados, O servidor FULANO COSTA, mat. 111, veio para a EMPRESA XPTO para compor força de trabalho, de acordo com a Portaria-Presidente 224 >> LINK DA PORTARIA Na Intranet o empregado aparece como \"movimentado\" e inativo. Na verdade deve estar ativo. Falei com o Cadastro e indicaram que a TI resolveria a questão. Obrigada.\n> **Área:** Desenvolvimento de sistemas\n> \n> **Problema:** Prezados, bom dia! De ordem, e com a máxima urgência, solicitamos, por favor, a inclusão do empregado Simone Mendes matrícula: 01234, para acesso ao sistema viaga mais, como solicitante e também para autorizar pela PRESI, pois ele é o substituto da Chefe de Gabinete, conforme anexo. Atenciosamente, Cassia Eller\n> **Área:** Desenvolvimento de sistemas\n> \n> **Problema:** Aprender metodologia para verificar a seguranças dos sistemas mantidos pela empresa identificando possíveis vulnerabilidades de segurança a fim de mitigar riscos e apontar eventuais falhas encontradas para serem corrigidas pelas áreas responsáveis. Justificativa da escolha do fornecedor: A Escola é qualificada como uma Organização Social (OS), a Rede Nacional de Ensino e Pesquisa (RNP) é ligada ao Ministério da Ciência, Tecnologia, Inovação e Comunicações (MCTIC) e mantida por esse em conjunto com os ministérios da Educação (MEC), Cultura (MinC), Saúde (MS) e Defesa (MD), que participam do Programa Interministerial RNP (PI-RNP). Pioneira no acesso à internet no Brasil, a RNP planeja e mantém a rede Ipê ¬- rede óptica nacional acadêmica de alto desempenho. Com Pontos de Presença em 27 unidades da federação, a rede conecta 1.522 campi e unidades nas capitais e no interior. São mais de 4 milhões de usuários, usufruindo de uma infraestrutura de redes avançadas para comunicação, computação e experimentação, que contribui para a integração entre o sistema de Ciência e Tecnologia, Educação Superior, Saúde, Cultura e Defesa. Fiscais da Contratação – Fiscal Titular e Substituto (Nos casos de curso que apresente custo à XCORP): Fiscal Titular: Caetano Veloso - GELOG - 0109 Fiscal substituto: Alcione - CADLOG - 0108\n> **Área:** Gestão de pessoas\n> \n> **Problema:** peço a troca da conta bancaria para recebimento de salario. Novos dados para o recebimento Agencia: 0001 conta: 2000-9 Tipo de conta: corrente Banco Itau\n> **Área:** Gestão de pessoas\n> \n> **Problema:** Solicito o reset de minha senha do pupet. Meu usuário e: jonh.lenon, matricula: 10111\n> **Área:** Infraestrutura\n> \n> **Problema:** Bom dia. Solicito a remarcação de minhas férias relativas ao período aquisitivo de 02/06/2018 a 01/06/2018 marcadas para o dia 11/06/2018 a 20/06/2018 para o novo período 02/10/2018 a 11/10/2018.\n> **Área:** Gestão de pessoas\n> \n> **Problema:** Boa tarde. Solicito uma ajuda para configurar a impressora corredor central a esquerda em minha máquina. Sistema operacional Ubuntu 18.04 Achei a impressora na rede e a inclui no meu grupo de impressoras mas envio a impressão e ela fica com o status pausada.\n> **Área:** Atendimento\n> \n> **Problema:** Bom dia. Peço a inclusão do e-mail: renato.russo@dominio.com a lista ti_todos\n> **Área:** Infraestrutura\n> \n> **Problema:** Auxilio Creche para a Criança Cleobalda Lemos nascimento: 10/07/2018 Segue anexo formulário com a solicitacao\n> **Área:** Gestão de pessoas"
          },
          "metadata": {}
        },
        {
          "output_type": "stream",
          "name": "stdout",
          "text": [
            "-------------------------------------------\n",
            "Descreva para mim o problema a ser resolvido \n",
            ": problema: Deixei cair coca-cola no servidor. Quero dizer a máquina area:\n",
            "De acordo com o informado. O setor que lhe atenderá eh:  **Problema:** Deixei cair coca-cola no servidor. Quero dizer a máquina\n",
            "**Área:** Suporte técnico \n",
            "\n",
            "\n"
          ]
        },
        {
          "output_type": "display_data",
          "data": {
            "text/plain": [
              "<IPython.core.display.Markdown object>"
            ],
            "text/markdown": "> **user**: ## Dados para treinamento  problema: Gostaria de solicitar, por favor, a inclusão no sistema gestor core do acesso à função GESTOR MIDIA. O pedido é feito para criação e entrega dos programas do As aventuras de Mano Brown, o qual faço parte da equipe de produção, em TO. Obrigado! area: desenvolvimento de sistemas  ---  problema: Solicitamos reparo no sistema viaja mais, pois o mesmo não esta permitindo salvar as alterações nas avs no qual quando solicitamos salvar aparece o erro em anexo. Diante disso solicitamos o reparo. area: desenvolvimento de sistemas   ---  problema: Não consigo acessar o computador para trabalhar, tento fazer login mas o windows não loga. area: suporte tecnico  ---  problema: Solicito a criação de usuário de rede para novo colaborador. area: infraestrutura  ---  problema: Na sala de reunião o projetor não está funcionando. O computador está ligado, mas não aparece nada no telão. area: suporte tecnico  ---  problema: Preciso trabalhar com o PowerBI para criar um relatório, mas o computador pedi uma senha de administrador. Estou com urgência para entregar a demanda. area: suporte tecnico  ---  problema: Solicito tirar as minhas férias em julho.   area: gestao de pessoas  ---  problema: O colaborador está sendo desligado da empresa. Necessário desativar o login e email. area: infraestrutura  ---  problema: Preciso trocar a conta para receber o salário. E precisa ser nesse mês ainda, porque o banco que eu tinha conta não existe mais. area: gestao de pessoas  ---  problema: Todos os computadores da área não estão acessando a internet. Isso impossibilita que o trabalho seja realizado. area: infraestrutura  ---  problema : Não fica disponível a opção da prestação de contas a impressão do relatório area: desenvolvimento de sistemas  ---  problema: Solicito acesso ao sistema gestor core para o jovem aprendiz Cleobaldo Rodrigues Cunha Pinto.  Desde já agradeço. Daniela Mercury area: Desenvolvimento de sistemas  ---  problema: Solicito excluir o usuário : manu.batidao@dominio.com Fiz a pesquisa e não localizei onde esse e-mail foi cadastrado. O cliente tem urgência. Segue print. Peço a gentileza de incluir o Coordenador do setor (Contratos) para acompanhamento.: contrato@dominio.com Obrigada, Mari Fernandez. area: desenvolvimento de sistemas  ---  problema: Boa tarde. A equipe de produção está com dificuldades de fazer o upload das artes no Portal. Segue anexo o print do erro. Peço que reiniciem o sistema. Obrigada.  area: desenvolvimento de sistemas  ---  problema: Boa tarde; Ao lançar no sistema de viaja mais para o empregado Charlie Brown, Matrícula 001169, o sistema não conclui a inclusão da viagem e apresenta o seguinte erro:  Desculpe, um erro aconteceu na tentativa de solicitar a viagem. A operação falhou  Ao entrar em contato com a área de viagem, recebemos o seguinte retorno e orientação: \"Ele consta como diretoria em branco, talvez seja isso. Favor abrir um chamado para a TI e eles informarão como proceder. No que depender de nós, resolveremos o mais rápido possível. Talvez o problema esteja no cadastro dele pois, pelo que vejo, será sua primeira viagem\"  Pedimos atualizar a lotação e diretoria do empregado no sistema Viaja Mais para que possamos lançar a viagem.  Att  area: desenvolvimento de sistemas  ---  problema: Prezados, O servidor FULANO COSTA, mat. 111, veio para a EMPRESA XPTO para compor força de trabalho, de acordo com a Portaria-Presidente 224 >> LINK DA PORTARIA Na Intranet  o empregado aparece como \"movimentado\" e inativo. Na verdade deve estar ativo. Falei com o Cadastro e indicaram que a TI resolveria a questão. Obrigada. area: desenvolvimento de sistemas  ---  problema: Prezados, bom dia! De ordem, e com a máxima urgência, solicitamos, por favor, a inclusão do empregado Simone Mendes matrícula: 01234, para acesso ao sistema viaga mais, como solicitante e também para autorizar pela PRESI, pois ele é o substituto da Chefe de Gabinete, conforme anexo. Atenciosamente, Cassia Eller  area: Desenvolvimento de sistemas  ---  problema: Aprender metodologia para verificar a seguranças dos sistemas mantidos pela empresa identificando possíveis vulnerabilidades de segurança a fim de mitigar riscos e apontar eventuais falhas encontradas para serem corrigidas pelas áreas responsáveis. Justificativa da escolha do fornecedor:\tA Escola é qualificada como uma Organização Social (OS), a Rede Nacional de Ensino e Pesquisa (RNP) é ligada ao Ministério da Ciência, Tecnologia, Inovação e Comunicações (MCTIC) e mantida por esse em conjunto com os ministérios da Educação (MEC), Cultura (MinC), Saúde (MS) e Defesa (MD), que participam do Programa Interministerial RNP (PI-RNP). Pioneira no acesso à internet no Brasil, a RNP planeja e mantém a rede Ipê ¬- rede óptica nacional acadêmica de alto desempenho. Com Pontos de Presença em 27 unidades da federação, a rede conecta 1.522 campi e unidades nas capitais e no interior. São mais de 4 milhões de usuários, usufruindo de uma infraestrutura de redes avançadas para comunicação, computação e experimentação, que contribui para a integração entre o sistema de Ciência e Tecnologia, Educação Superior, Saúde, Cultura e Defesa. Fiscais da Contratação – Fiscal Titular e Substituto (Nos casos de curso que apresente custo à XCORP):\tFiscal Titular: Caetano Veloso - GELOG - 0109 Fiscal substituto: Alcione - CADLOG - 0108 area: gestao de pessoas  ---  problema: peço a troca da conta bancaria para recebimento de salario. Novos dados para o recebimento Agencia: 0001 conta: 2000-9 Tipo de conta: corrente Banco Itau area: gestao de pessoas  ---  problema: Solicito o reset de minha senha do pupet. Meu usuário e: jonh.lenon, matricula: 10111 area: infraestrutura  ---  problema: Bom dia. Solicito a remarcação de minhas férias relativas ao período aquisitivo de 02/06/2018 a 01/06/2018 marcadas para o dia 11/06/2018 a 20/06/2018 para o novo período 02/10/2018 a 11/10/2018. area: gestao de pessoas  --- problema: Boa tarde. Solicito uma ajuda para configurar a impressora corredor central a esquerda em minha máquina. Sistema operacional Ubuntu 18.04 Achei a impressora na rede e a inclui no meu grupo de impressoras mas envio a impressão e ela fica com o status pausada. area: atendimento  ---  problema: Bom dia. Peço a inclusão do e-mail: renato.russo@dominio.com a lista ti_todos area: Infraestrutura  --- problema: Auxilio Creche para a Criança Cleobalda Lemos nascimento: 10/07/2018  Segue anexo formulário com a solicitacao area: Gestao de pessoas ---"
          },
          "metadata": {}
        },
        {
          "output_type": "display_data",
          "data": {
            "text/plain": [
              "<IPython.core.display.Markdown object>"
            ],
            "text/markdown": "> **model**: ## Dados para treinamento\n> \n> **Problema:** Gostaria de solicitar, por favor, a inclusão no sistema gestor core do acesso à função GESTOR MIDIA. O pedido é feito para criação e entrega dos programas do As aventuras de Mano Brown, o qual faço parte da equipe de produção, em TO. Obrigado!\n> **Área:** Desenvolvimento de sistemas\n> \n> **Problema:** Solicitamos reparo no sistema viaja mais, pois o mesmo não esta permitindo salvar as alterações nas avs no qual quando solicitamos salvar aparece o erro em anexo. Diante disso solicitamos o reparo.\n> **Área:** Desenvolvimento de sistemas\n> \n> **Problema:** Não consigo acessar o computador para trabalhar, tento fazer login mas o windows não loga.\n> **Área:** Suporte técnico\n> \n> **Problema:** Solicito a criação de usuário de rede para novo colaborador.\n> **Área:** Infraestrutura\n> \n> **Problema:** Na sala de reunião o projetor não está funcionando. O computador está ligado, mas não aparece nada no telão.\n> **Área:** Suporte técnico\n> \n> **Problema:** Preciso trabalhar com o PowerBI para criar um relatório, mas o computador pedi uma senha de administrador. Estou com urgência para entregar a demanda.\n> **Área:** Suporte técnico\n> \n> **Problema:** Solicito tirar as minhas férias em julho.\n> **Área:** Gestão de pessoas\n> \n> **Problema:** O colaborador está sendo desligado da empresa. Necessário desativar o login e email.\n> **Área:** Infraestrutura\n> \n> **Problema:** Preciso trocar a conta para receber o salário. E precisa ser nesse mês ainda, porque o banco que eu tinha conta não existe mais.\n> **Área:** Gestão de pessoas\n> \n> **Problema:** Todos os computadores da área não estão acessando a internet. Isso impossibilita que o trabalho seja realizado.\n> **Área:** Infraestrutura\n> \n> **Problema:** Não fica disponível a opção da prestação de contas a impressão do relatório\n> **Área:** Desenvolvimento de sistemas\n> \n> **Problema:** Solicito acesso ao sistema gestor core para o jovem aprendiz Cleobaldo Rodrigues Cunha Pinto. Desde já agradeço. Daniela Mercury\n> **Área:** Desenvolvimento de sistemas\n> \n> **Problema:** Solicito excluir o usuário: manu.batidao@dominio.com Fiz a pesquisa e não localizei onde esse e-mail foi cadastrado. O cliente tem urgência. Segue print. Peço a gentileza de incluir o Coordenador do setor (Contratos) para acompanhamento.: contrato@dominio.com Obrigada, Mari Fernandez.\n> **Área:** Desenvolvimento de sistemas\n> \n> **Problema:** Boa tarde. A equipe de produção está com dificuldades de fazer o upload das artes no Portal. Segue anexo o print do erro. Peço que reiniciem o sistema. Obrigada.\n> **Área:** Desenvolvimento de sistemas\n> \n> **Problema:** Boa tarde; Ao lançar no sistema de viaja mais para o empregado Charlie Brown, Matrícula 001169, o sistema não conclui a inclusão da viagem e apresenta o seguinte erro: Desculpe, um erro aconteceu na tentativa de solicitar a viagem. A operação falhou Ao entrar em contato com a área de viagem, recebemos o seguinte retorno e orientação: \"Ele consta como diretoria em branco, talvez seja isso. Favor abrir um chamado para a TI e eles informarão como proceder. No que depender de nós, resolveremos o mais rápido possível. Talvez o problema esteja no cadastro dele pois, pelo que vejo, será sua primeira viagem\" Pedimos atualizar a lotação e diretoria do empregado no sistema Viaja Mais para que possamos lançar a viagem. Att\n> **Área:** Desenvolvimento de sistemas\n> \n> **Problema:** Prezados, O servidor FULANO COSTA, mat. 111, veio para a EMPRESA XPTO para compor força de trabalho, de acordo com a Portaria-Presidente 224 >> LINK DA PORTARIA Na Intranet o empregado aparece como \"movimentado\" e inativo. Na verdade deve estar ativo. Falei com o Cadastro e indicaram que a TI resolveria a questão. Obrigada.\n> **Área:** Desenvolvimento de sistemas\n> \n> **Problema:** Prezados, bom dia! De ordem, e com a máxima urgência, solicitamos, por favor, a inclusão do empregado Simone Mendes matrícula: 01234, para acesso ao sistema viaga mais, como solicitante e também para autorizar pela PRESI, pois ele é o substituto da Chefe de Gabinete, conforme anexo. Atenciosamente, Cassia Eller\n> **Área:** Desenvolvimento de sistemas\n> \n> **Problema:** Aprender metodologia para verificar a seguranças dos sistemas mantidos pela empresa identificando possíveis vulnerabilidades de segurança a fim de mitigar riscos e apontar eventuais falhas encontradas para serem corrigidas pelas áreas responsáveis. Justificativa da escolha do fornecedor: A Escola é qualificada como uma Organização Social (OS), a Rede Nacional de Ensino e Pesquisa (RNP) é ligada ao Ministério da Ciência, Tecnologia, Inovação e Comunicações (MCTIC) e mantida por esse em conjunto com os ministérios da Educação (MEC), Cultura (MinC), Saúde (MS) e Defesa (MD), que participam do Programa Interministerial RNP (PI-RNP). Pioneira no acesso à internet no Brasil, a RNP planeja e mantém a rede Ipê ¬- rede óptica nacional acadêmica de alto desempenho. Com Pontos de Presença em 27 unidades da federação, a rede conecta 1.522 campi e unidades nas capitais e no interior. São mais de 4 milhões de usuários, usufruindo de uma infraestrutura de redes avançadas para comunicação, computação e experimentação, que contribui para a integração entre o sistema de Ciência e Tecnologia, Educação Superior, Saúde, Cultura e Defesa. Fiscais da Contratação – Fiscal Titular e Substituto (Nos casos de curso que apresente custo à XCORP): Fiscal Titular: Caetano Veloso - GELOG - 0109 Fiscal substituto: Alcione - CADLOG - 0108\n> **Área:** Gestão de pessoas\n> \n> **Problema:** peço a troca da conta bancaria para recebimento de salario. Novos dados para o recebimento Agencia: 0001 conta: 2000-9 Tipo de conta: corrente Banco Itau\n> **Área:** Gestão de pessoas\n> \n> **Problema:** Solicito o reset de minha senha do pupet. Meu usuário e: jonh.lenon, matricula: 10111\n> **Área:** Infraestrutura\n> \n> **Problema:** Bom dia. Solicito a remarcação de minhas férias relativas ao período aquisitivo de 02/06/2018 a 01/06/2018 marcadas para o dia 11/06/2018 a 20/06/2018 para o novo período 02/10/2018 a 11/10/2018.\n> **Área:** Gestão de pessoas\n> \n> **Problema:** Boa tarde. Solicito uma ajuda para configurar a impressora corredor central a esquerda em minha máquina. Sistema operacional Ubuntu 18.04 Achei a impressora na rede e a inclui no meu grupo de impressoras mas envio a impressão e ela fica com o status pausada.\n> **Área:** Atendimento\n> \n> **Problema:** Bom dia. Peço a inclusão do e-mail: renato.russo@dominio.com a lista ti_todos\n> **Área:** Infraestrutura\n> \n> **Problema:** Auxilio Creche para a Criança Cleobalda Lemos nascimento: 10/07/2018 Segue anexo formulário com a solicitacao\n> **Área:** Gestão de pessoas"
          },
          "metadata": {}
        },
        {
          "output_type": "display_data",
          "data": {
            "text/plain": [
              "<IPython.core.display.Markdown object>"
            ],
            "text/markdown": "> **user**: problema: Deixei cair coca-cola no servidor. Quero dizer a máquina area:"
          },
          "metadata": {}
        },
        {
          "output_type": "display_data",
          "data": {
            "text/plain": [
              "<IPython.core.display.Markdown object>"
            ],
            "text/markdown": "> **model**: **Problema:** Deixei cair coca-cola no servidor. Quero dizer a máquina\n> **Área:** Suporte técnico"
          },
          "metadata": {}
        },
        {
          "output_type": "stream",
          "name": "stdout",
          "text": [
            "-------------------------------------------\n",
            "Descreva para mim o problema a ser resolvido \n",
            ": problema: Precisa atualizar os sistemas de banco de dados para evitar invasões de terceiros. Recomendação do fabricante dos servidores. area:\n",
            "De acordo com o informado. O setor que lhe atenderá eh:  **Problema:** Precisa atualizar os sistemas de banco de dados para evitar invasões de terceiros. Recomendação do fabricante dos servidores.\n",
            "**Área:** Desenvolvimento de sistemas \n",
            "\n",
            "\n"
          ]
        },
        {
          "output_type": "display_data",
          "data": {
            "text/plain": [
              "<IPython.core.display.Markdown object>"
            ],
            "text/markdown": "> **user**: ## Dados para treinamento  problema: Gostaria de solicitar, por favor, a inclusão no sistema gestor core do acesso à função GESTOR MIDIA. O pedido é feito para criação e entrega dos programas do As aventuras de Mano Brown, o qual faço parte da equipe de produção, em TO. Obrigado! area: desenvolvimento de sistemas  ---  problema: Solicitamos reparo no sistema viaja mais, pois o mesmo não esta permitindo salvar as alterações nas avs no qual quando solicitamos salvar aparece o erro em anexo. Diante disso solicitamos o reparo. area: desenvolvimento de sistemas   ---  problema: Não consigo acessar o computador para trabalhar, tento fazer login mas o windows não loga. area: suporte tecnico  ---  problema: Solicito a criação de usuário de rede para novo colaborador. area: infraestrutura  ---  problema: Na sala de reunião o projetor não está funcionando. O computador está ligado, mas não aparece nada no telão. area: suporte tecnico  ---  problema: Preciso trabalhar com o PowerBI para criar um relatório, mas o computador pedi uma senha de administrador. Estou com urgência para entregar a demanda. area: suporte tecnico  ---  problema: Solicito tirar as minhas férias em julho.   area: gestao de pessoas  ---  problema: O colaborador está sendo desligado da empresa. Necessário desativar o login e email. area: infraestrutura  ---  problema: Preciso trocar a conta para receber o salário. E precisa ser nesse mês ainda, porque o banco que eu tinha conta não existe mais. area: gestao de pessoas  ---  problema: Todos os computadores da área não estão acessando a internet. Isso impossibilita que o trabalho seja realizado. area: infraestrutura  ---  problema : Não fica disponível a opção da prestação de contas a impressão do relatório area: desenvolvimento de sistemas  ---  problema: Solicito acesso ao sistema gestor core para o jovem aprendiz Cleobaldo Rodrigues Cunha Pinto.  Desde já agradeço. Daniela Mercury area: Desenvolvimento de sistemas  ---  problema: Solicito excluir o usuário : manu.batidao@dominio.com Fiz a pesquisa e não localizei onde esse e-mail foi cadastrado. O cliente tem urgência. Segue print. Peço a gentileza de incluir o Coordenador do setor (Contratos) para acompanhamento.: contrato@dominio.com Obrigada, Mari Fernandez. area: desenvolvimento de sistemas  ---  problema: Boa tarde. A equipe de produção está com dificuldades de fazer o upload das artes no Portal. Segue anexo o print do erro. Peço que reiniciem o sistema. Obrigada.  area: desenvolvimento de sistemas  ---  problema: Boa tarde; Ao lançar no sistema de viaja mais para o empregado Charlie Brown, Matrícula 001169, o sistema não conclui a inclusão da viagem e apresenta o seguinte erro:  Desculpe, um erro aconteceu na tentativa de solicitar a viagem. A operação falhou  Ao entrar em contato com a área de viagem, recebemos o seguinte retorno e orientação: \"Ele consta como diretoria em branco, talvez seja isso. Favor abrir um chamado para a TI e eles informarão como proceder. No que depender de nós, resolveremos o mais rápido possível. Talvez o problema esteja no cadastro dele pois, pelo que vejo, será sua primeira viagem\"  Pedimos atualizar a lotação e diretoria do empregado no sistema Viaja Mais para que possamos lançar a viagem.  Att  area: desenvolvimento de sistemas  ---  problema: Prezados, O servidor FULANO COSTA, mat. 111, veio para a EMPRESA XPTO para compor força de trabalho, de acordo com a Portaria-Presidente 224 >> LINK DA PORTARIA Na Intranet  o empregado aparece como \"movimentado\" e inativo. Na verdade deve estar ativo. Falei com o Cadastro e indicaram que a TI resolveria a questão. Obrigada. area: desenvolvimento de sistemas  ---  problema: Prezados, bom dia! De ordem, e com a máxima urgência, solicitamos, por favor, a inclusão do empregado Simone Mendes matrícula: 01234, para acesso ao sistema viaga mais, como solicitante e também para autorizar pela PRESI, pois ele é o substituto da Chefe de Gabinete, conforme anexo. Atenciosamente, Cassia Eller  area: Desenvolvimento de sistemas  ---  problema: Aprender metodologia para verificar a seguranças dos sistemas mantidos pela empresa identificando possíveis vulnerabilidades de segurança a fim de mitigar riscos e apontar eventuais falhas encontradas para serem corrigidas pelas áreas responsáveis. Justificativa da escolha do fornecedor:\tA Escola é qualificada como uma Organização Social (OS), a Rede Nacional de Ensino e Pesquisa (RNP) é ligada ao Ministério da Ciência, Tecnologia, Inovação e Comunicações (MCTIC) e mantida por esse em conjunto com os ministérios da Educação (MEC), Cultura (MinC), Saúde (MS) e Defesa (MD), que participam do Programa Interministerial RNP (PI-RNP). Pioneira no acesso à internet no Brasil, a RNP planeja e mantém a rede Ipê ¬- rede óptica nacional acadêmica de alto desempenho. Com Pontos de Presença em 27 unidades da federação, a rede conecta 1.522 campi e unidades nas capitais e no interior. São mais de 4 milhões de usuários, usufruindo de uma infraestrutura de redes avançadas para comunicação, computação e experimentação, que contribui para a integração entre o sistema de Ciência e Tecnologia, Educação Superior, Saúde, Cultura e Defesa. Fiscais da Contratação – Fiscal Titular e Substituto (Nos casos de curso que apresente custo à XCORP):\tFiscal Titular: Caetano Veloso - GELOG - 0109 Fiscal substituto: Alcione - CADLOG - 0108 area: gestao de pessoas  ---  problema: peço a troca da conta bancaria para recebimento de salario. Novos dados para o recebimento Agencia: 0001 conta: 2000-9 Tipo de conta: corrente Banco Itau area: gestao de pessoas  ---  problema: Solicito o reset de minha senha do pupet. Meu usuário e: jonh.lenon, matricula: 10111 area: infraestrutura  ---  problema: Bom dia. Solicito a remarcação de minhas férias relativas ao período aquisitivo de 02/06/2018 a 01/06/2018 marcadas para o dia 11/06/2018 a 20/06/2018 para o novo período 02/10/2018 a 11/10/2018. area: gestao de pessoas  --- problema: Boa tarde. Solicito uma ajuda para configurar a impressora corredor central a esquerda em minha máquina. Sistema operacional Ubuntu 18.04 Achei a impressora na rede e a inclui no meu grupo de impressoras mas envio a impressão e ela fica com o status pausada. area: atendimento  ---  problema: Bom dia. Peço a inclusão do e-mail: renato.russo@dominio.com a lista ti_todos area: Infraestrutura  --- problema: Auxilio Creche para a Criança Cleobalda Lemos nascimento: 10/07/2018  Segue anexo formulário com a solicitacao area: Gestao de pessoas ---"
          },
          "metadata": {}
        },
        {
          "output_type": "display_data",
          "data": {
            "text/plain": [
              "<IPython.core.display.Markdown object>"
            ],
            "text/markdown": "> **model**: ## Dados para treinamento\n> \n> **Problema:** Gostaria de solicitar, por favor, a inclusão no sistema gestor core do acesso à função GESTOR MIDIA. O pedido é feito para criação e entrega dos programas do As aventuras de Mano Brown, o qual faço parte da equipe de produção, em TO. Obrigado!\n> **Área:** Desenvolvimento de sistemas\n> \n> **Problema:** Solicitamos reparo no sistema viaja mais, pois o mesmo não esta permitindo salvar as alterações nas avs no qual quando solicitamos salvar aparece o erro em anexo. Diante disso solicitamos o reparo.\n> **Área:** Desenvolvimento de sistemas\n> \n> **Problema:** Não consigo acessar o computador para trabalhar, tento fazer login mas o windows não loga.\n> **Área:** Suporte técnico\n> \n> **Problema:** Solicito a criação de usuário de rede para novo colaborador.\n> **Área:** Infraestrutura\n> \n> **Problema:** Na sala de reunião o projetor não está funcionando. O computador está ligado, mas não aparece nada no telão.\n> **Área:** Suporte técnico\n> \n> **Problema:** Preciso trabalhar com o PowerBI para criar um relatório, mas o computador pedi uma senha de administrador. Estou com urgência para entregar a demanda.\n> **Área:** Suporte técnico\n> \n> **Problema:** Solicito tirar as minhas férias em julho.\n> **Área:** Gestão de pessoas\n> \n> **Problema:** O colaborador está sendo desligado da empresa. Necessário desativar o login e email.\n> **Área:** Infraestrutura\n> \n> **Problema:** Preciso trocar a conta para receber o salário. E precisa ser nesse mês ainda, porque o banco que eu tinha conta não existe mais.\n> **Área:** Gestão de pessoas\n> \n> **Problema:** Todos os computadores da área não estão acessando a internet. Isso impossibilita que o trabalho seja realizado.\n> **Área:** Infraestrutura\n> \n> **Problema:** Não fica disponível a opção da prestação de contas a impressão do relatório\n> **Área:** Desenvolvimento de sistemas\n> \n> **Problema:** Solicito acesso ao sistema gestor core para o jovem aprendiz Cleobaldo Rodrigues Cunha Pinto. Desde já agradeço. Daniela Mercury\n> **Área:** Desenvolvimento de sistemas\n> \n> **Problema:** Solicito excluir o usuário: manu.batidao@dominio.com Fiz a pesquisa e não localizei onde esse e-mail foi cadastrado. O cliente tem urgência. Segue print. Peço a gentileza de incluir o Coordenador do setor (Contratos) para acompanhamento.: contrato@dominio.com Obrigada, Mari Fernandez.\n> **Área:** Desenvolvimento de sistemas\n> \n> **Problema:** Boa tarde. A equipe de produção está com dificuldades de fazer o upload das artes no Portal. Segue anexo o print do erro. Peço que reiniciem o sistema. Obrigada.\n> **Área:** Desenvolvimento de sistemas\n> \n> **Problema:** Boa tarde; Ao lançar no sistema de viaja mais para o empregado Charlie Brown, Matrícula 001169, o sistema não conclui a inclusão da viagem e apresenta o seguinte erro: Desculpe, um erro aconteceu na tentativa de solicitar a viagem. A operação falhou Ao entrar em contato com a área de viagem, recebemos o seguinte retorno e orientação: \"Ele consta como diretoria em branco, talvez seja isso. Favor abrir um chamado para a TI e eles informarão como proceder. No que depender de nós, resolveremos o mais rápido possível. Talvez o problema esteja no cadastro dele pois, pelo que vejo, será sua primeira viagem\" Pedimos atualizar a lotação e diretoria do empregado no sistema Viaja Mais para que possamos lançar a viagem. Att\n> **Área:** Desenvolvimento de sistemas\n> \n> **Problema:** Prezados, O servidor FULANO COSTA, mat. 111, veio para a EMPRESA XPTO para compor força de trabalho, de acordo com a Portaria-Presidente 224 >> LINK DA PORTARIA Na Intranet o empregado aparece como \"movimentado\" e inativo. Na verdade deve estar ativo. Falei com o Cadastro e indicaram que a TI resolveria a questão. Obrigada.\n> **Área:** Desenvolvimento de sistemas\n> \n> **Problema:** Prezados, bom dia! De ordem, e com a máxima urgência, solicitamos, por favor, a inclusão do empregado Simone Mendes matrícula: 01234, para acesso ao sistema viaga mais, como solicitante e também para autorizar pela PRESI, pois ele é o substituto da Chefe de Gabinete, conforme anexo. Atenciosamente, Cassia Eller\n> **Área:** Desenvolvimento de sistemas\n> \n> **Problema:** Aprender metodologia para verificar a seguranças dos sistemas mantidos pela empresa identificando possíveis vulnerabilidades de segurança a fim de mitigar riscos e apontar eventuais falhas encontradas para serem corrigidas pelas áreas responsáveis. Justificativa da escolha do fornecedor: A Escola é qualificada como uma Organização Social (OS), a Rede Nacional de Ensino e Pesquisa (RNP) é ligada ao Ministério da Ciência, Tecnologia, Inovação e Comunicações (MCTIC) e mantida por esse em conjunto com os ministérios da Educação (MEC), Cultura (MinC), Saúde (MS) e Defesa (MD), que participam do Programa Interministerial RNP (PI-RNP). Pioneira no acesso à internet no Brasil, a RNP planeja e mantém a rede Ipê ¬- rede óptica nacional acadêmica de alto desempenho. Com Pontos de Presença em 27 unidades da federação, a rede conecta 1.522 campi e unidades nas capitais e no interior. São mais de 4 milhões de usuários, usufruindo de uma infraestrutura de redes avançadas para comunicação, computação e experimentação, que contribui para a integração entre o sistema de Ciência e Tecnologia, Educação Superior, Saúde, Cultura e Defesa. Fiscais da Contratação – Fiscal Titular e Substituto (Nos casos de curso que apresente custo à XCORP): Fiscal Titular: Caetano Veloso - GELOG - 0109 Fiscal substituto: Alcione - CADLOG - 0108\n> **Área:** Gestão de pessoas\n> \n> **Problema:** peço a troca da conta bancaria para recebimento de salario. Novos dados para o recebimento Agencia: 0001 conta: 2000-9 Tipo de conta: corrente Banco Itau\n> **Área:** Gestão de pessoas\n> \n> **Problema:** Solicito o reset de minha senha do pupet. Meu usuário e: jonh.lenon, matricula: 10111\n> **Área:** Infraestrutura\n> \n> **Problema:** Bom dia. Solicito a remarcação de minhas férias relativas ao período aquisitivo de 02/06/2018 a 01/06/2018 marcadas para o dia 11/06/2018 a 20/06/2018 para o novo período 02/10/2018 a 11/10/2018.\n> **Área:** Gestão de pessoas\n> \n> **Problema:** Boa tarde. Solicito uma ajuda para configurar a impressora corredor central a esquerda em minha máquina. Sistema operacional Ubuntu 18.04 Achei a impressora na rede e a inclui no meu grupo de impressoras mas envio a impressão e ela fica com o status pausada.\n> **Área:** Atendimento\n> \n> **Problema:** Bom dia. Peço a inclusão do e-mail: renato.russo@dominio.com a lista ti_todos\n> **Área:** Infraestrutura\n> \n> **Problema:** Auxilio Creche para a Criança Cleobalda Lemos nascimento: 10/07/2018 Segue anexo formulário com a solicitacao\n> **Área:** Gestão de pessoas"
          },
          "metadata": {}
        },
        {
          "output_type": "display_data",
          "data": {
            "text/plain": [
              "<IPython.core.display.Markdown object>"
            ],
            "text/markdown": "> **user**: problema: Deixei cair coca-cola no servidor. Quero dizer a máquina area:"
          },
          "metadata": {}
        },
        {
          "output_type": "display_data",
          "data": {
            "text/plain": [
              "<IPython.core.display.Markdown object>"
            ],
            "text/markdown": "> **model**: **Problema:** Deixei cair coca-cola no servidor. Quero dizer a máquina\n> **Área:** Suporte técnico"
          },
          "metadata": {}
        },
        {
          "output_type": "display_data",
          "data": {
            "text/plain": [
              "<IPython.core.display.Markdown object>"
            ],
            "text/markdown": "> **user**: problema: Precisa atualizar os sistemas de banco de dados para evitar invasões de terceiros. Recomendação do fabricante dos servidores. area:"
          },
          "metadata": {}
        },
        {
          "output_type": "display_data",
          "data": {
            "text/plain": [
              "<IPython.core.display.Markdown object>"
            ],
            "text/markdown": "> **model**: **Problema:** Precisa atualizar os sistemas de banco de dados para evitar invasões de terceiros. Recomendação do fabricante dos servidores.\n> **Área:** Desenvolvimento de sistemas"
          },
          "metadata": {}
        },
        {
          "name": "stdout",
          "output_type": "stream",
          "text": [
            "-------------------------------------------\n",
            "Descreva para mim o problema a ser resolvido \n",
            ": fim\n"
          ]
        }
      ],
      "source": [
        "#Instalando o SDK do Google\n",
        "!pip install -q -U google-generativeai\n",
        "\n",
        "import google.generativeai as genai\n",
        "\n",
        "import textwrap\n",
        "from IPython.display import display\n",
        "from IPython.display import Markdown\n",
        "from google.colab import userdata\n",
        "\n",
        "# usando a chave de forma segura\n",
        "secret_key = userdata.get('SECRET_KEY')\n",
        "genai.configure(api_key=secret_key)\n",
        "\n",
        "#Definindo configurações do modelo\n",
        "generation_config = {\n",
        "  \"candidate_count\": 1,\n",
        "  \"temperature\": 0.8,\n",
        "}\n",
        "\n",
        "safety_settings = [\n",
        "  {\n",
        "    \"category\": \"HARM_CATEGORY_HARASSMENT\",\n",
        "    \"threshold\": \"BLOCK_MEDIUM_AND_ABOVE\"\n",
        "  },\n",
        "  {\n",
        "    \"category\": \"HARM_CATEGORY_HATE_SPEECH\",\n",
        "    \"threshold\": \"BLOCK_MEDIUM_AND_ABOVE\"\n",
        "  },\n",
        "  {\n",
        "    \"category\": \"HARM_CATEGORY_SEXUALLY_EXPLICIT\",\n",
        "    \"threshold\": \"BLOCK_MEDIUM_AND_ABOVE\"\n",
        "  },\n",
        "  {\n",
        "    \"category\": \"HARM_CATEGORY_DANGEROUS_CONTENT\",\n",
        "    \"threshold\": \"BLOCK_MEDIUM_AND_ABOVE\"\n",
        "  },\n",
        "]\n",
        "\n",
        "\n",
        "def to_markdown(text):\n",
        "  text = text.replace('•', '  *')\n",
        "  return Markdown(textwrap.indent(text, '> ', predicate=lambda _: True))\n",
        "\n",
        "# Criando o modelo\n",
        "model = genai.GenerativeModel(\n",
        "    model_name='models/gemini-1.0-pro',\n",
        "    generation_config=generation_config,\n",
        "    safety_settings=safety_settings,\n",
        ")\n",
        "\n",
        "chat = model.start_chat(history=[])\n",
        "\n",
        "prompt = input('Descreva para mim o problema a ser resolvido \\n: ')\n",
        "\n",
        "while prompt != \"fim\":\n",
        "  response = chat.send_message(prompt)\n",
        "\n",
        "  print(\"De acordo com o informado. O setor que lhe atenderá eh: \", response.text, '\\n\\n')\n",
        "\n",
        "  # Imprimindo o histórico\n",
        "  for message in chat.history:\n",
        "    display(to_markdown(f'**{message.role}**: {message.parts[0].text}'))\n",
        "\n",
        "  print('-------------------------------------------')\n",
        "\n",
        "  prompt = input('Descreva para mim o problema a ser resolvido \\n: ')\n"
      ]
    },
    {
      "cell_type": "code",
      "source": [],
      "metadata": {
        "id": "xrHW-IMPMOjg"
      },
      "execution_count": null,
      "outputs": []
    },
    {
      "cell_type": "markdown",
      "source": [
        "Um texto explicativo"
      ],
      "metadata": {
        "id": "tnBBrdGKMK4E"
      }
    }
  ]
}